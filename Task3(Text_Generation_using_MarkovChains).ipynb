{
  "nbformat": 4,
  "nbformat_minor": 0,
  "metadata": {
    "colab": {
      "provenance": [],
      "authorship_tag": "ABX9TyM7jI+GFhy4rL088aX9gVMd",
      "include_colab_link": true
    },
    "kernelspec": {
      "name": "python3",
      "display_name": "Python 3"
    },
    "language_info": {
      "name": "python"
    }
  },
  "cells": [
    {
      "cell_type": "markdown",
      "metadata": {
        "id": "view-in-github",
        "colab_type": "text"
      },
      "source": [
        "<a href=\"https://colab.research.google.com/github/CruiseBott/PRODIGY_GA_03/blob/main/Task3(Text_Generation_using_MarkovChains).ipynb\" target=\"_parent\"><img src=\"https://colab.research.google.com/assets/colab-badge.svg\" alt=\"Open In Colab\"/></a>"
      ]
    },
    {
      "cell_type": "code",
      "source": [
        "import random\n",
        "from collections import defaultdict\n",
        "\n",
        "class MarkovChain:\n",
        "    def __init__(self):\n",
        "        self.transition_matrix = defaultdict(list)\n",
        "        self.word_freq = defaultdict(int)\n",
        "\n",
        "    def train(self, text):\n",
        "        words = text.split()\n",
        "        for i in range(len(words) - 1):\n",
        "            word, next_word = words[i], words[i + 1]\n",
        "            self.transition_matrix[word].append(next_word)\n",
        "            self.word_freq[word] += 1\n",
        "\n",
        "    def generate_text(self, seed_word, max_words):\n",
        "        current_word = seed_word\n",
        "        generated_text = [current_word]\n",
        "        for _ in range(max_words):\n",
        "            next_words = self.transition_matrix[current_word]\n",
        "            if not next_words:\n",
        "                break\n",
        "            current_word = random.choice(next_words)\n",
        "            generated_text.append(current_word)\n",
        "        return ' '.join(generated_text)\n",
        "\n",
        "# Get user input in Colab\n",
        "text = input(\"Enter a text to train the Markov chain: \")\n",
        "seed_word = input(\"Enter a seed word to generate text: \")\n",
        "max_words = int(input(\"Enter the number of words to generate: \"))\n",
        "\n",
        "markov_chain = MarkovChain()\n",
        "markov_chain.train(text)\n",
        "\n",
        "generated_text = markov_chain.generate_text(seed_word, max_words)\n",
        "print(\"Generated text:\")\n",
        "print(generated_text)"
      ],
      "metadata": {
        "colab": {
          "base_uri": "https://localhost:8080/"
        },
        "id": "wNxagociWiHQ",
        "outputId": "5e04dd51-23d3-4bc7-aa4c-ab14c81e3a2c"
      },
      "execution_count": null,
      "outputs": [
        {
          "output_type": "stream",
          "name": "stdout",
          "text": [
            "Enter a text to train the Markov chain: Markov chains are a powerful tool for modeling sequences and predicting future events based on past ones. Imagine predicting the weather tomorrow based solely on today's weather. That's the basic idea behind Markov chains. They represent a system with a series of states, and the probability of transitioning from one state to another depends only on the current state, not the entire history. This makes them computationally efficient and widely applicable. From predicting text to analyzing stock prices, Markov chains offer a simple yet effective way to understand and generate sequential data.\n",
            "Enter a seed word to generate text: Markov\n",
            "Enter the number of words to generate: 100\n",
            "Generated text:\n",
            "Markov chains are a series of states, and generate sequential data.\n"
          ]
        }
      ]
    },
    {
      "cell_type": "code",
      "source": [],
      "metadata": {
        "id": "67ePX9GDX8DC"
      },
      "execution_count": null,
      "outputs": []
    }
  ]
}